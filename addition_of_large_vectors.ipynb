{
  "nbformat": 4,
  "nbformat_minor": 0,
  "metadata": {
    "colab": {
      "provenance": [],
      "gpuType": "T4"
    },
    "kernelspec": {
      "name": "python3",
      "display_name": "Python 3"
    },
    "language_info": {
      "name": "python"
    },
    "accelerator": "GPU",
    "gpuClass": "standard"
  },
  "cells": [
    {
      "cell_type": "code",
      "execution_count": null,
      "metadata": {
        "id": "Jj3Al3yMKuwl"
      },
      "outputs": [],
      "source": [
        "!nvcc --version\n"
      ]
    },
    {
      "cell_type": "code",
      "source": [
        "!pip install git+https://github.com/andreinechaev/nvcc4jupyter.git\n"
      ],
      "metadata": {
        "colab": {
          "base_uri": "https://localhost:8080/"
        },
        "id": "-sOYLtIGLNie",
        "outputId": "b50b3bbe-a182-4d5c-c057-c7b578c3d6d5"
      },
      "execution_count": 2,
      "outputs": [
        {
          "output_type": "stream",
          "name": "stdout",
          "text": [
            "Looking in indexes: https://pypi.org/simple, https://us-python.pkg.dev/colab-wheels/public/simple/\n",
            "Collecting git+https://github.com/andreinechaev/nvcc4jupyter.git\n",
            "  Cloning https://github.com/andreinechaev/nvcc4jupyter.git to /tmp/pip-req-build-479q9so0\n",
            "  Running command git clone --filter=blob:none --quiet https://github.com/andreinechaev/nvcc4jupyter.git /tmp/pip-req-build-479q9so0\n",
            "  Resolved https://github.com/andreinechaev/nvcc4jupyter.git to commit aac710a35f52bb78ab34d2e52517237941399eff\n",
            "  Preparing metadata (setup.py) ... \u001b[?25l\u001b[?25hdone\n",
            "Building wheels for collected packages: NVCCPlugin\n",
            "  Building wheel for NVCCPlugin (setup.py) ... \u001b[?25l\u001b[?25hdone\n",
            "  Created wheel for NVCCPlugin: filename=NVCCPlugin-0.0.2-py3-none-any.whl size=4287 sha256=bce2588f9787e751b67d6d3bdc1671a7d3567ce57a9e92b4a48670020be982b6\n",
            "  Stored in directory: /tmp/pip-ephem-wheel-cache-zhvnlihj/wheels/a8/b9/18/23f8ef71ceb0f63297dd1903aedd067e6243a68ea756d6feea\n",
            "Successfully built NVCCPlugin\n",
            "Installing collected packages: NVCCPlugin\n",
            "Successfully installed NVCCPlugin-0.0.2\n"
          ]
        }
      ]
    },
    {
      "cell_type": "code",
      "source": [
        "%load_ext nvcc_plugin\n"
      ],
      "metadata": {
        "colab": {
          "base_uri": "https://localhost:8080/"
        },
        "id": "4DZzYDbhLSUX",
        "outputId": "75d36cda-3a6c-4053-aa57-860e450331b9"
      },
      "execution_count": 3,
      "outputs": [
        {
          "output_type": "stream",
          "name": "stdout",
          "text": [
            "created output directory at /content/src\n",
            "Out bin /content/result.out\n"
          ]
        }
      ]
    },
    {
      "cell_type": "code",
      "source": [
        "%%cu\n",
        "#include <stdio.h>\n",
        "#include <cuda.h>\n",
        "\n",
        "#define SIZE 100\n",
        "\n",
        "__global__ void vectorAdd(int *a, int *b, int *c, int size)\n",
        "{\n",
        "    int tid = blockIdx.x * blockDim.x + threadIdx.x;\n",
        "    if (tid < size)\n",
        "    {\n",
        "        c[tid] = a[tid] + b[tid];\n",
        "    }\n",
        "}\n",
        "\n",
        "int main()\n",
        "{\n",
        "    int a[SIZE], b[SIZE], c[SIZE];\n",
        "    int size = SIZE;\n",
        "\n",
        "    // Initialize input vectors\n",
        "    for (int i = 0; i < size; i++)\n",
        "    {\n",
        "        a[i] = i*10;\n",
        "        b[i] = i;\n",
        "    }\n",
        "\n",
        "    int *dev_a, *dev_b, *dev_c;\n",
        "    cudaMalloc((void **)&dev_a, size * sizeof(int));\n",
        "    cudaMalloc((void **)&dev_b, size * sizeof(int));\n",
        "    cudaMalloc((void **)&dev_c, size * sizeof(int));\n",
        "\n",
        "    cudaMemcpy(dev_a, a, size * sizeof(int), cudaMemcpyHostToDevice);\n",
        "    cudaMemcpy(dev_b, b, size * sizeof(int), cudaMemcpyHostToDevice);\n",
        "\n",
        "    int threadsPerBlock = 256;\n",
        "    int blocksPerGrid = (size + threadsPerBlock - 1) / threadsPerBlock;\n",
        "\n",
        "    vectorAdd<<<blocksPerGrid, threadsPerBlock>>>(dev_a, dev_b, dev_c, size);\n",
        "\n",
        "    cudaMemcpy(c, dev_c, size * sizeof(int), cudaMemcpyDeviceToHost);\n",
        "\n",
        "    // Print the result\n",
        "    printf(\"Vector Addition (a, b, c):\\n\");\n",
        "    for (int i = 0; i < size; i++)\n",
        "    {\n",
        "        printf(\"%d + %d = %d\\n\", a[i], b[i], c[i]);\n",
        "    }\n",
        "\n",
        "    cudaFree(dev_a);\n",
        "    cudaFree(dev_b);\n",
        "    cudaFree(dev_c);\n",
        "\n",
        "    return 0;\n",
        "}\n",
        "\n",
        "\n",
        "\n",
        "\n"
      ],
      "metadata": {
        "colab": {
          "base_uri": "https://localhost:8080/"
        },
        "id": "LCiMToqcK3d-",
        "outputId": "dd30197a-f2ce-4e16-d915-23e006d3d553"
      },
      "execution_count": 12,
      "outputs": [
        {
          "output_type": "stream",
          "name": "stdout",
          "text": [
            "Vector Addition (a, b, c):\n",
            "0 + 0 = 0\n",
            "10 + 1 = 11\n",
            "20 + 2 = 22\n",
            "30 + 3 = 33\n",
            "40 + 4 = 44\n",
            "50 + 5 = 55\n",
            "60 + 6 = 66\n",
            "70 + 7 = 77\n",
            "80 + 8 = 88\n",
            "90 + 9 = 99\n",
            "100 + 10 = 110\n",
            "110 + 11 = 121\n",
            "120 + 12 = 132\n",
            "130 + 13 = 143\n",
            "140 + 14 = 154\n",
            "150 + 15 = 165\n",
            "160 + 16 = 176\n",
            "170 + 17 = 187\n",
            "180 + 18 = 198\n",
            "190 + 19 = 209\n",
            "200 + 20 = 220\n",
            "210 + 21 = 231\n",
            "220 + 22 = 242\n",
            "230 + 23 = 253\n",
            "240 + 24 = 264\n",
            "250 + 25 = 275\n",
            "260 + 26 = 286\n",
            "270 + 27 = 297\n",
            "280 + 28 = 308\n",
            "290 + 29 = 319\n",
            "300 + 30 = 330\n",
            "310 + 31 = 341\n",
            "320 + 32 = 352\n",
            "330 + 33 = 363\n",
            "340 + 34 = 374\n",
            "350 + 35 = 385\n",
            "360 + 36 = 396\n",
            "370 + 37 = 407\n",
            "380 + 38 = 418\n",
            "390 + 39 = 429\n",
            "400 + 40 = 440\n",
            "410 + 41 = 451\n",
            "420 + 42 = 462\n",
            "430 + 43 = 473\n",
            "440 + 44 = 484\n",
            "450 + 45 = 495\n",
            "460 + 46 = 506\n",
            "470 + 47 = 517\n",
            "480 + 48 = 528\n",
            "490 + 49 = 539\n",
            "500 + 50 = 550\n",
            "510 + 51 = 561\n",
            "520 + 52 = 572\n",
            "530 + 53 = 583\n",
            "540 + 54 = 594\n",
            "550 + 55 = 605\n",
            "560 + 56 = 616\n",
            "570 + 57 = 627\n",
            "580 + 58 = 638\n",
            "590 + 59 = 649\n",
            "600 + 60 = 660\n",
            "610 + 61 = 671\n",
            "620 + 62 = 682\n",
            "630 + 63 = 693\n",
            "640 + 64 = 704\n",
            "650 + 65 = 715\n",
            "660 + 66 = 726\n",
            "670 + 67 = 737\n",
            "680 + 68 = 748\n",
            "690 + 69 = 759\n",
            "700 + 70 = 770\n",
            "710 + 71 = 781\n",
            "720 + 72 = 792\n",
            "730 + 73 = 803\n",
            "740 + 74 = 814\n",
            "750 + 75 = 825\n",
            "760 + 76 = 836\n",
            "770 + 77 = 847\n",
            "780 + 78 = 858\n",
            "790 + 79 = 869\n",
            "800 + 80 = 880\n",
            "810 + 81 = 891\n",
            "820 + 82 = 902\n",
            "830 + 83 = 913\n",
            "840 + 84 = 924\n",
            "850 + 85 = 935\n",
            "860 + 86 = 946\n",
            "870 + 87 = 957\n",
            "880 + 88 = 968\n",
            "890 + 89 = 979\n",
            "900 + 90 = 990\n",
            "910 + 91 = 1001\n",
            "920 + 92 = 1012\n",
            "930 + 93 = 1023\n",
            "940 + 94 = 1034\n",
            "950 + 95 = 1045\n",
            "960 + 96 = 1056\n",
            "970 + 97 = 1067\n",
            "980 + 98 = 1078\n",
            "990 + 99 = 1089\n",
            "\n"
          ]
        }
      ]
    },
    {
      "cell_type": "code",
      "source": [],
      "metadata": {
        "id": "F6eWRT5kWeAr"
      },
      "execution_count": null,
      "outputs": []
    }
  ]
}