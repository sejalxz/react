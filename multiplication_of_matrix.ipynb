{
  "nbformat": 4,
  "nbformat_minor": 0,
  "metadata": {
    "colab": {
      "provenance": [],
      "gpuType": "T4",
      "authorship_tag": "ABX9TyPz3or9rsEIof4ta3RYNoEO",
      "include_colab_link": true
    },
    "kernelspec": {
      "name": "python3",
      "display_name": "Python 3"
    },
    "language_info": {
      "name": "python"
    },
    "accelerator": "GPU",
    "gpuClass": "standard"
  },
  "cells": [
    {
      "cell_type": "markdown",
      "metadata": {
        "id": "view-in-github",
        "colab_type": "text"
      },
      "source": [
        "<a href=\"https://colab.research.google.com/github/sejalxz/react/blob/main/multiplication_of_matrix.ipynb\" target=\"_parent\"><img src=\"https://colab.research.google.com/assets/colab-badge.svg\" alt=\"Open In Colab\"/></a>"
      ]
    },
    {
      "cell_type": "code",
      "execution_count": 2,
      "metadata": {
        "colab": {
          "base_uri": "https://localhost:8080/"
        },
        "id": "jnEpCnVuYQnT",
        "outputId": "93850acc-4019-41eb-f464-f4e9724c2939"
      },
      "outputs": [
        {
          "output_type": "stream",
          "name": "stdout",
          "text": [
            "nvcc: NVIDIA (R) Cuda compiler driver\n",
            "Copyright (c) 2005-2022 NVIDIA Corporation\n",
            "Built on Wed_Sep_21_10:33:58_PDT_2022\n",
            "Cuda compilation tools, release 11.8, V11.8.89\n",
            "Build cuda_11.8.r11.8/compiler.31833905_0\n"
          ]
        }
      ],
      "source": [
        "!nvcc --version"
      ]
    },
    {
      "cell_type": "code",
      "source": [
        "!pip install git+https://github.com/andreinechaev/nvcc4jupyter.git"
      ],
      "metadata": {
        "colab": {
          "base_uri": "https://localhost:8080/"
        },
        "id": "qiqLySPhYYUZ",
        "outputId": "947efc47-b7a7-41be-a467-7662408a935c"
      },
      "execution_count": 3,
      "outputs": [
        {
          "output_type": "stream",
          "name": "stdout",
          "text": [
            "Looking in indexes: https://pypi.org/simple, https://us-python.pkg.dev/colab-wheels/public/simple/\n",
            "Collecting git+https://github.com/andreinechaev/nvcc4jupyter.git\n",
            "  Cloning https://github.com/andreinechaev/nvcc4jupyter.git to /tmp/pip-req-build-3xyease8\n",
            "  Running command git clone --filter=blob:none --quiet https://github.com/andreinechaev/nvcc4jupyter.git /tmp/pip-req-build-3xyease8\n",
            "  Resolved https://github.com/andreinechaev/nvcc4jupyter.git to commit aac710a35f52bb78ab34d2e52517237941399eff\n",
            "  Preparing metadata (setup.py) ... \u001b[?25l\u001b[?25hdone\n",
            "Building wheels for collected packages: NVCCPlugin\n",
            "  Building wheel for NVCCPlugin (setup.py) ... \u001b[?25l\u001b[?25hdone\n",
            "  Created wheel for NVCCPlugin: filename=NVCCPlugin-0.0.2-py3-none-any.whl size=4287 sha256=27a4dc5e964dcb01c17fb133c9b644f172ea219f57596e0efd5bcf0ecb8ee76a\n",
            "  Stored in directory: /tmp/pip-ephem-wheel-cache-xu_5j332/wheels/a8/b9/18/23f8ef71ceb0f63297dd1903aedd067e6243a68ea756d6feea\n",
            "Successfully built NVCCPlugin\n",
            "Installing collected packages: NVCCPlugin\n",
            "Successfully installed NVCCPlugin-0.0.2\n"
          ]
        }
      ]
    },
    {
      "cell_type": "code",
      "source": [
        "%load_ext nvcc_plugin"
      ],
      "metadata": {
        "colab": {
          "base_uri": "https://localhost:8080/"
        },
        "id": "6JvdBQ2eYgFL",
        "outputId": "a0dd9bba-25df-435d-e9f9-74f3785714b6"
      },
      "execution_count": 4,
      "outputs": [
        {
          "output_type": "stream",
          "name": "stdout",
          "text": [
            "created output directory at /content/src\n",
            "Out bin /content/result.out\n"
          ]
        }
      ]
    },
    {
      "cell_type": "code",
      "source": [
        "%%cu\n",
        "#include <stdio.h>\n",
        "#include <stdlib.h>\n",
        "#include <sys/time.h>\n",
        "\n",
        "#define N 3\n",
        "\n",
        "__global__ void matrixMul(int *a, int *b, int *c)\n",
        "{\n",
        "  int row = blockIdx.y * blockDim.y + threadIdx.y;\n",
        "  int col = blockIdx.x * blockDim.x + threadIdx.x;\n",
        "\n",
        "  int sum = 0;\n",
        "  for (int i = 0; i < N; ++i)\n",
        "  {\n",
        "    sum += a[row * N + i] * b[i * N + col];\n",
        "  }\n",
        "\n",
        "  c[row * N + col] = sum;\n",
        "}\n",
        "\n",
        "void matrixMulCPU(int *a, int *b, int *c)\n",
        "{\n",
        "  for (int row = 0; row < N; ++row)\n",
        "  {\n",
        "    for (int col = 0; col < N; ++col)\n",
        "    {\n",
        "      int sum = 0;\n",
        "      for (int i = 0; i < N; ++i)\n",
        "      {\n",
        "        sum += a[row * N + i] * b[i * N + col];\n",
        "      }\n",
        "      c[row * N + col] = sum;\n",
        "    }\n",
        "  }\n",
        "}\n",
        "\n",
        "double getSeconds()\n",
        "{\n",
        "  struct timeval tv;\n",
        "  gettimeofday(&tv, NULL);\n",
        "  return (double)tv.tv_sec + (double)tv.tv_usec * 1e-6;\n",
        "}\n",
        "\n",
        "int main()\n",
        "{\n",
        "//  int a[N][N], b[N][N], c[N][N], c_CPU[N][N];\n",
        " \n",
        "int a[N][N] = { {1, 2, 3}, {4, 5, 6}, {7, 8, 9} };\n",
        "int b[N][N] = { {9, 8, 7}, {6, 5, 4}, {3, 2, 1} };\n",
        "int c_CPU[N][N] = { 0 };\n",
        "int c[N][N] = { 0 };\n",
        "\n",
        "  int *dev_a, *dev_b, *dev_c;\n",
        "\n",
        "  // Initialize matrices a and b\n",
        "/*  for (int i = 0; i <= N; ++i)\n",
        "  {\n",
        "    for (int j = 0; j <= N; ++j)\n",
        "    {\n",
        "      a[i][j] = i + j + 1;\n",
        "      b[i][j] = i * j + 1;\n",
        "    }\n",
        "  }\n",
        " */\n",
        "\n",
        "  // Allocate memory on the device\n",
        "  cudaMalloc((void **)&dev_a, N * N * sizeof(int));\n",
        "  cudaMalloc((void **)&dev_b, N * N * sizeof(int));\n",
        "  cudaMalloc((void **)&dev_c, N * N * sizeof(int));\n",
        "\n",
        "  // Copy matrices a and b from host to device\n",
        "  cudaMemcpy(dev_a, a, N * N * sizeof(int), cudaMemcpyHostToDevice);\n",
        "  cudaMemcpy(dev_b, b, N * N * sizeof(int), cudaMemcpyHostToDevice);\n",
        "\n",
        "  // Define grid and block dimensions\n",
        "  dim3 threadsPerBlock(N, N);\n",
        "  dim3 blocksPerGrid(1, 1);\n",
        "\n",
        "  // Measure GPU execution time\n",
        "  double startGPU = getSeconds();\n",
        "\n",
        "  // Launch the matrix multiplication kernel\n",
        "  matrixMul<<<blocksPerGrid, threadsPerBlock>>>(dev_a, dev_b, dev_c);\n",
        "\n",
        "  // Copy result matrix c from device to host\n",
        "  cudaMemcpy(c, dev_c, N * N * sizeof(int), cudaMemcpyDeviceToHost);\n",
        "\n",
        "  double endGPU = getSeconds();\n",
        "  double timeGPU = endGPU - startGPU;\n",
        " \n",
        " printf(\"\\n Matrix 1:\\n\");\n",
        "  for (int i = 0; i < N; ++i)\n",
        "  {\n",
        "    for (int j = 0; j < N; ++j)\n",
        "    {\n",
        "      printf(\"%d \", a[i][j]);\n",
        "    }\n",
        "    printf(\"\\n\");\n",
        "  }\n",
        " \n",
        "\n",
        "  printf(\"\\Matrix 2:\\n\");\n",
        "  for (int i = 0; i < N; ++i)\n",
        "  {\n",
        "    for (int j = 0; j < N; ++j)\n",
        "    {\n",
        "      printf(\"%d \", b[i][j]);\n",
        "    }\n",
        "    printf(\"\\n\");\n",
        "  }\n",
        "\n",
        "\n",
        "  // Print the result matrix\n",
        "  printf(\"GPU Result Matrix:\\n\");\n",
        "  for (int i = 0; i < N; ++i)\n",
        "  {\n",
        "    for (int j = 0; j < N; ++j)\n",
        "    {\n",
        "      printf(\"%d \", c[i][j]);\n",
        "    }\n",
        "    printf(\"\\n\");\n",
        "  }\n",
        "\n",
        "  // Measure CPU execution time\n",
        "  double startCPU = getSeconds();\n",
        "\n",
        "  // Perform matrix multiplication on the CPU\n",
        "  matrixMulCPU((int *)a, (int *)b, (int *)c_CPU);\n",
        "\n",
        "  double endCPU = getSeconds();\n",
        "  double timeCPU = endCPU - startCPU;\n",
        "\n",
        "\n",
        "\n",
        "\n",
        "  // Print the result matrix\n",
        "  printf(\"\\nCPU Result Matrix:\\n\");\n",
        "  for (int i = 0; i < N; ++i)\n",
        "  {\n",
        "    for (int j = 0; j < N; ++j)\n",
        "    {\n",
        "      printf(\"%d \", c_CPU[i][j]);\n",
        "    }\n",
        "    printf(\"\\n\");\n",
        "  }\n",
        "\n",
        "  // Calculate speedup\n",
        "  double speedup = timeCPU / timeGPU;\n",
        " \n",
        "//  printf(\"Result Matrix:\\n\");\n",
        "//     printMatrix((int*)c);\n",
        "\n",
        "  // Print execution times and speedup\n",
        "  printf(\"\\nExecution Time (GPU): %.6f seconds\\n\", timeGPU);\n",
        "  printf(\"Execution Time (CPU): %.6f seconds\\n\", timeCPU);\n",
        "  printf(\"Speedup: %.2f\\n\", speedup);\n",
        "\n",
        "  // Free device memory\n",
        "  cudaFree(dev_a);\n",
        "  cudaFree(dev_b);\n",
        "  cudaFree(dev_c);\n",
        "\n",
        "  return 0;\n",
        "}\n",
        "\n"
      ],
      "metadata": {
        "colab": {
          "base_uri": "https://localhost:8080/"
        },
        "id": "qHmTS04-awWc",
        "outputId": "b9d61127-29b3-48c2-9c4c-414bbdcef120"
      },
      "execution_count": 11,
      "outputs": [
        {
          "output_type": "stream",
          "name": "stdout",
          "text": [
            "\n",
            " Matrix 1:\n",
            "1 2 3 \n",
            "4 5 6 \n",
            "7 8 9 \n",
            "Matrix 2:\n",
            "9 8 7 \n",
            "6 5 4 \n",
            "3 2 1 \n",
            "GPU Result Matrix:\n",
            "30 24 18 \n",
            "84 69 54 \n",
            "138 114 90 \n",
            "\n",
            "CPU Result Matrix:\n",
            "30 24 18 \n",
            "84 69 54 \n",
            "138 114 90 \n",
            "\n",
            "Execution Time (GPU): 0.000033 seconds\n",
            "Execution Time (CPU): 0.000001 seconds\n",
            "Speedup: 0.03\n",
            "\n"
          ]
        }
      ]
    }
  ]
}